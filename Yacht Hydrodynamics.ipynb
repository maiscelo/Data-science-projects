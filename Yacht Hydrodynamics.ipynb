{
 "cells": [
  {
   "cell_type": "markdown",
   "metadata": {},
   "source": [
    "# Regressão Linear"
   ]
  },
  {
   "cell_type": "markdown",
   "metadata": {},
   "source": [
    "Esta apresentação foi baseada em:\n",
    "<TT>https://bids.github.io/2015-06-04-berkeley/intermediate-python/03-sklearn-abalone.html</TT>"
   ]
  },
  {
   "cell_type": "markdown",
   "metadata": {},
   "source": [
    "Primeiro, os devidos $\\texttt{import}$s:"
   ]
  },
  {
   "cell_type": "code",
   "execution_count": null,
   "metadata": {},
   "outputs": [],
   "source": [
    "%matplotlib inline\n",
    "import pandas as pd\n",
    "import numpy as np\n",
    "#from sklearn import datasets\n",
    "from sklearn import linear_model\n",
    "import matplotlib.pyplot as plt\n",
    "#from mpl_toolkits.mplot3d import Axes3D"
   ]
  },
  {
   "cell_type": "markdown",
   "metadata": {},
   "source": [
    "Precisaremos de algumas funções para facilitar<br>\n",
    "algumas manipulações entediantes..."
   ]
  },
  {
   "cell_type": "code",
   "execution_count": null,
   "metadata": {},
   "outputs": [],
   "source": [
    "# acrescenta uma coluna de 1s no final de uma matriz\n",
    "def add_ones_column(M):\n",
    "    return np.column_stack((M, np.ones(np.shape(M)[0])))\n",
    "\n",
    "# constroi e resolve a equação normal A^T A x = A^T b\n",
    
    "def solve_normal_eqn(M,v):\n",
    "    return np.linalg.solve(np.matmul(np.transpose(M),M),\\\n",
    "                          np.matmul(np.transpose(M), v))\n",
    "\n",
    "# constroi os gráficos dos resultados, comparando a\n",
    "# saída real com a saída estimada. Calcula, ainda, o erro\n",
    "def scatter_results(true_y, predicted_y):\n",
    "    #Scatter-plot the predicted vs real\n",
    "    #Plots:\n",
    "    #   * real(x) vs predicted(y)\n",
    "    #   * perfect agreement line\n",
    "    #Returns the root mean square of the error\n",
    "\n",
    "    fig, ax = plt.subplots(figsize=(8, 8))\n",
    "    ax.plot(true_y, predicted_y, '.b')\n",
    "    \n",
    "    min_limit = min(np.amin(true_y),np.amin(predicted_y))\n",
    "    max_limit = max(np.amax(true_y),np.amax(predicted_y))\n",
    "    ax.plot([min_limit, max_limit], [min_limit, max_limit], '--k')\n",
    "    \n",
    "    \n",
    "    #rms = (true_y - predicted_y).std()\n",
    "    rmse = np.sqrt(np.mean((true_y - predicted_y)**2))\n",
    "    \n",
    "    ax.text(0.99*max_limit, 1.01*min_limit,'Root Mean Square Error = %.2f' % rmse,\n",
    "            ha='right', va='bottom')\n",
    "\n",
    "    ax.set_xlim(min_limit, max_limit)\n",
    "    ax.set_ylim(min_limit, max_limit)\n",
    "    \n",
    "    ax.set_xlabel('Valores reais')\n",
    "    ax.set_ylabel('Valores estimados')\n",
    "    \n",
    "    return rmse"
   ]
  },
  {
   "cell_type": "markdown",
   "metadata": {},
   "source": [
    "Primeiro, iremos trabalhar com o banco de dados Power Plant."
   ]
  },
  {
   "cell_type": "code",
   "execution_count": null,
   "metadata": {},
   "outputs": [],
   "source": [
    "column_names = [\"temperature\", \" pressure\", \"humidity\", \"vacuum\", \"energy\"]\n",
    "\n",
    "data = pd.read_csv(\"datasets/power_plant/power_plant.csv\", names=column_names, skiprows=1)\n",
    "\n",
    "print(\"Number of samples: %d\" % len(data))\n",
    "print(data.head())\n",
    "\n",
    "y = data.energy.values\n",
    "\n",
    "del data[\"energy\"] # remove output variable from data, so we can convert all the dataframe to a numpy 2D array\n",
    "\n",
    "X = data.values.astype(np.float)"
   ]
  },
  {
   "cell_type": "markdown",
   "metadata": {},
   "source": [
    "O segundo banco de dados é o Abalone.<br>\n",
    "Os resultados são piores que o anterior, mas aceitáveis."
   ]
  },
  {
   "cell_type": "code",
   "execution_count": null,
   "metadata": {},
   "outputs": [],
   "source": [
    "'''\n",
    "column_names = [\"sex\", \"length\", \"diameter\", \"height\", \"whole weight\", \n",
    "                \"shucked weight\", \"viscera weight\", \"shell weight\", \"rings\"]\n",
    "\n",
    "data = pd.read_csv(\"abalone.data\", names=column_names)\n",
    "\n",
    "print(\"Number of samples: %d\" % len(data))\n",
    "print(data.head())\n",
    "\n",
    "y = data.rings.values\n",
    "\n",
    "del data[\"sex\"] # removendo a primeira característica\n",
    "del data[\"rings\"] # remove rings from data, so we can convert all the dataframe to a numpy 2D array\n",
    "\n",
    "X = data.values.astype(np.float)\n",
    "'''"
   ]
  },
  {
   "cell_type": "markdown",
   "metadata": {},
   "source": [
    "Vamos dividir os dados em conjuntos de treinamento e teste:<br>\n",
    "60% para treinamento e 40% para teste."
   ]
  },
  {
   "cell_type": "code",
   "execution_count": null,
   "metadata": {},
   "outputs": [],
   "source": [
    "from sklearn.model_selection import train_test_split\n",
    "X_train, X_test, y_train, y_test = train_test_split(X, y, test_size=0.40, random_state=0)"
   ]
  },
  {
   "cell_type": "markdown",
   "metadata": {},
   "source": [
    "Utilizaremos a decomposição QR:"
   ]
  },
  {
   "cell_type": "code",
   "execution_count": null,
   "metadata": {},
   "outputs": [],
   "source": [
    "# sem o coeficiente linear (somente para comparar com a regressão do sklearn)\n",
    "#Q, R = np.linalg.qr(X_train)\n",
    "# com o coeficiente linear\n",
    "Q, R = np.linalg.qr(add_ones_column(X_train))\n",
    "\n",
    "coef_regression = np.linalg.solve(R, np.matmul(np.transpose(Q), y_train))\n",
    "\n",
    "print('Coeficientes da regressão:\\n', coef_regression)\n",
    "\n",
    "# com o coeficiente linear\n",
    "predicted_y_test = np.matmul(add_ones_column(X_test), coef_regression)\n",
    "predicted_y_train = np.matmul(add_ones_column(X_train), coef_regression)"
   ]
  },
  {
   "cell_type": "markdown",
   "metadata": {},
   "source": [
    "Poderíamos ter usado a regressão linear da biblioteca sklearn,<br>\n",
    "mas os resultados seriam os mesmos."
   ]
  },
  {
   "cell_type": "code",
   "execution_count": null,
   "metadata": {},
   "outputs": [],
   "source": [
    "'''\n",
    "# linear_model.LinearRegression(fit_intercept=True, normalize=False, copy_X=True, n_jobs=None)\n",
    "# se o coeficiente linear for necessário, troque False por True\n",
    "lmreg = linear_model.LinearRegression(fit_intercept = False)\n",
    "\n",
    "lmreg.fit(X_train, y_train)\n",
    "\n",
    "print('Coeficientes da regressão:\\n', lmreg.coef_)\n",
    "\n",
    "predicted_y_test = lmreg.predict(X_test)\n",
    "predicted_y_train = lmreg.predict(X_train)\n",
    "'''"
   ]
  },
  {
   "cell_type": "markdown",
   "metadata": {},
   "source": [
    "Podemos visualizar os resultados da previsão usando:"
   ]
  },
  {
   "cell_type": "code",
   "execution_count": null,
   "metadata": {
    "scrolled": false
   },
   "outputs": [],
   "source": [
    "scatter_results(y_train, predicted_y_train)\n",
    "plt.title('Conjunto de Treinamento')\n",
    "\n",
    "scatter_results(y_test, predicted_y_test)\n",
    "plt.title('Conjunto de Teste')"
   ]
  },
  {
   "cell_type": "markdown",
   "metadata": {},
   "source": [
    "## Banco de dados Yacht Hydrodynamics"
   ]
  },
  {
   "cell_type": "markdown",
   "metadata": {},
   "source": [
    "O terceiro banco de dados a ser analisado é o Yacht Hydrodynamics."
   ]
  },
  {
   "cell_type": "code",
   "execution_count": null,
   "metadata": {},
   "outputs": [],
   "source": [
    "column_names = [\"center of buoyancy\", \" prismatic coefficient\", \"length/displacement\", \"beam/draught\", \"length/beam\", \n",
    "                \"Froude number\", \"resistance\"]\n",
    "\n",
    "data = pd.read_csv(\"datasets/yacht-hydrodynamics/yacht_hydrodynamics.csv\", names=column_names)\n",
    "\n",
    "print(\"Number of samples: %d\" % len(data))\n",
    "print(data.head())\n",
    "\n",
    "y = data.resistance.values\n",
    "\n",
    "del data[\"resistance\"] # remove resuistance from data, so we can convert all the dataframe to a numpy 2D array\n",
    "\n",
    "X = data.values.astype(np.float)"
   ]
  },
  {
   "cell_type": "markdown",
   "metadata": {},
   "source": [
    "E executar os passos anteriores."
   ]
  },
  {
   "cell_type": "code",
   "execution_count": null,
   "metadata": {},
   "outputs": [],
   "source": [
    "from sklearn.model_selection import train_test_split\n",
    "X_train, X_test, y_train, y_test = train_test_split(X, y, test_size=0.40, random_state=0)\n",
    "\n",
    "# sem o coeficiente linear (somente para comparar com a regressão do sklearn)\n",
    "#Q, R = np.linalg.qr(X_train)\n",
    "# com o coeficiente linear\n",
    "Q, R = np.linalg.qr(add_ones_column(X_train))\n",
    "\n",
    "coef_regression = np.linalg.solve(R, np.matmul(np.transpose(Q), y_train))\n",
    "\n",
    "print('Coeficientes da regressão:\\n', coef_regression)\n",
    "\n",
    "# com o coeficiente linear\n",
    "predicted_y_test = np.matmul(add_ones_column(X_test), coef_regression)\n",
    "predicted_y_train = np.matmul(add_ones_column(X_train), coef_regression)\n",
    "\n",
    "scatter_results(y_train, predicted_y_train)\n",
    "plt.title('Conjunto de Treinamento')\n",
    "\n",
    "scatter_results(y_test, predicted_y_test)\n",
    "plt.title('Conjunto de Teste')"
   ]
  },
  {
   "cell_type": "markdown",
   "metadata": {},
   "source": [
    "Neste caso (Yacht Hydrodynamics),<br>\n",
    "o modelo não parece ser linear (ou afim).<br>\n",
    "Vamos tentar um modelo quadrático."
   ]
  },
  {
   "cell_type": "code",
   "execution_count": null,
   "metadata": {},
   "outputs": [],
   "source": [
    "aux_train = add_ones_column(np.column_stack((np.square(X_train),X_train)))\n",
    "aux_test = add_ones_column(np.column_stack((np.square(X_test),X_test)))\n",
    "\n",
    "Q, R = np.linalg.qr(aux_train)\n",
    "\n",
    "coef_regression = np.linalg.solve(R, np.matmul(np.transpose(Q), y_train))\n",
    "\n",
    "print('Coeficientes da regressão:\\n', coef_regression)\n",
    "\n",
    "# com o coeficiente linear\n",
    "predicted_y_train = np.matmul(aux_train, coef_regression)\n",
    "predicted_y_test = np.matmul(aux_test, coef_regression)\n",
    "\n",
    "scatter_results(y_train, predicted_y_train)\n",
    "plt.title('Conjunto de Treinamento')\n",
    "scatter_results(y_test, predicted_y_test)\n",
    "plt.title('Conjunto de Teste')"
   ]
  },
  {
   "cell_type": "markdown",
   "metadata": {},
   "source": [
    "Ainda ruim...<br>\n",
    "Voltemos ao modelo linear e acrescentemos um passo:"
   ]
  },
  {
   "cell_type": "code",
   "execution_count": null,
   "metadata": {},
   "outputs": [],
   "source": [
    "Q, R = np.linalg.qr(add_ones_column(X_train))\n",
    "\n",
    "coef_regression = np.linalg.solve(R, np.matmul(np.transpose(Q), y_train))\n",
    "\n",
    "print('Coeficientes da regressão:\\n', coef_regression)\n",
    "\n",
    "# com o coeficiente linear\n",
    "predicted_y_test = np.matmul(add_ones_column(X_test), coef_regression)\n",
    "predicted_y_train = np.matmul(add_ones_column(X_train), coef_regression)\n",
    "\n",
    "scatter_results(y_train, predicted_y_train)\n",
    "plt.title('Conjunto de Treinamento')\n",
    "scatter_results(y_test, predicted_y_test)\n",
    "plt.title('Conjunto de Teste')"
   ]
  },
  {
   "cell_type": "markdown",
   "metadata": {},
   "source": [
    "Note como parece haver uma relação logarítmica entre o valor estimado e o valor real: \n",
    "\\begin{align}\n",
    " y_{est} = \\log(y_{real}) \\, .\n",
    "\\end{align}\n",
    "Que tal tentarmos algo como:\n",
    "\\begin{align}\n",
    " \\alpha_0 y_{est} + \\alpha_1 = \\log(y_{real}) \\, .\n",
    "\\end{align}\n",
    "Assim, a nova estimativa $y_{new}$ será dada por:\n",
    "\\begin{align}\n",
    " y_{new} = \\exp(\\alpha_0 y_{est} + \\alpha_1) \\, .\n",
    "\\end{align}\n",
    "Usaremos regressão linear para obter os valores de $\\alpha$.<br>"
   ]
  },
  {
   "cell_type": "code",
   "execution_count": null,
   "metadata": {},
   "outputs": [],
   "source": [
    "alpha = solve_normal_eqn(add_ones_column(predicted_y_train),\\\n",
    "                        np.log(y_train))\n",
    "print('alpha = ', alpha)\n",
    "predicted_z_train = np.exp(alpha[0] * predicted_y_train + alpha[1])\n",
    "predicted_z_test =  np.exp(alpha[0] * predicted_y_test  + alpha[1])\n",
    "\n",
    "scatter_results(y_train, predicted_z_train)\n",
    "plt.title('Conjunto de Treinamento')\n",
    "scatter_results(y_test, predicted_z_test)\n",
    "plt.title('Conjunto de Teste')"
   ]
  },
  {
   "cell_type": "markdown",
   "metadata": {},
   "source": [
    "Uma maravilha!<br>\n",
    "Note que conseguimos capturar a \"lei\" física que rege o processo,<br>\n",
    "principalmente com valores mais baixos de resistência.<br>\n",
    "Neste caso, a \"lei\" física que aproxima o valor da resistência é<br>\n",
    "o logaritmo de uma combinação afim das variáveis de entrada."
   ]
  }
 ],
 "metadata": {
  "kernelspec": {
   "display_name": "Python 3",
   "language": "python",
   "name": "python3"
  },
  "language_info": {
   "codemirror_mode": {
    "name": "ipython",
    "version": 3
   },
   "file_extension": ".py",
   "mimetype": "text/x-python",
   "name": "python",
   "nbconvert_exporter": "python",
   "pygments_lexer": "ipython3",
   "version": "3.6.6"
  }
 },
 "nbformat": 4,
 "nbformat_minor": 2
}
