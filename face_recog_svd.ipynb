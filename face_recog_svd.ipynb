{
 "cells": [
  {
   "cell_type": "markdown",
   "metadata": {},
   "source": [
    "# Reconhecimento Facial Usando SVD"
   ]
  },
  {
   "cell_type": "markdown",
   "metadata": {},
   "source": [
    "Utilizaremos o banco de imagens ORL com 10 imagens de 40 indivíduos."
   ]
  },
  {
   "cell_type": "markdown",
   "metadata": {},
   "source": [
    "Inicialmente, os imports:"
   ]
  },
  {
   "cell_type": "code",
   "execution_count": 1,
   "metadata": {},
   "outputs": [],
   "source": [
    "import numpy as np\n",
    "import os\n",
    "import cv2\n",
    "import random\n",
    "from scipy.linalg import eigh\n",
    "import timeit\n",
    "import matplotlib.pyplot as plt"
   ]
  },
  {
   "cell_type": "markdown",
   "metadata": {},
   "source": [
    "Vamos ler as imagens em cada subdiretório e colocá-las numa matriz $A$.<br>\n",
    "Devemos criar um vetor de classes $y$."
   ]
  },
  {
   "cell_type": "code",
   "execution_count": 2,
   "metadata": {},
   "outputs": [
    {
     "name": "stdout",
     "output_type": "stream",
     "text": [
      "Dimensões da matriz de dados: (400, 10304)\n"
     ]
    }
   ],
   "source": [
    "# working directory:\n",
    "path = os.path.abspath(\"/home/thelmo/uece/cursos/analise_de_dados/jupyter/datasets/orl-faces\")\n",
    "dirs = os.listdir(path)\n",
    "m = 112 * 92 # as imagens têm 112 * 92 pixels (Altura * Largura)\n",
    "X = np.zeros(m) # uma linha de zeros\n",
    "y = [] # lista de classes\n",
    "img_id = [] # lista de identidade das imagens\n",
    "d = 0\n",
    "for d in dirs:\n",
    "    wd = os.path.join(path,d)\n",
    "    for _, _, files in os.walk(wd):\n",
    "        for f in files:\n",
    "            img = cv2.imread(os.path.join(wd,f), cv2.IMREAD_GRAYSCALE) / 255.0\n",
    "            X = np.vstack((X,np.reshape(img,(1,m),order='F')))\n",
    "            y.append(d)\n",
    "            img_id.append(d+'-img'+f[:-4])\n",
    "X = np.delete(X, 0, 0) # remove a primeira linha de zeros\n",
    "print('Dimensões da matriz de dados:', np.shape(X))"
   ]
  },
  {
   "cell_type": "markdown",
   "metadata": {},
   "source": [
    "Agora, vamos compor as matrizes de treinamento e de teste:"
   ]
  },
  {
   "cell_type": "code",
   "execution_count": 4,
   "metadata": {},
   "outputs": [
    {
     "name": "stdout",
     "output_type": "stream",
     "text": [
      "Dimensões de Xtest = (80, 10304) Dimensão de ytest = (80,)\n",
      "Dimensões de Xtrain = (320, 10304) DImensão de ytrain = (320,)\n"
     ]
    }
   ],
   "source": [
    "# Criaremos ytest = np.zeros(80) para acompanhar os nomes das imagens\n",
    "ntest = 2 # 2 de 10 imagens de cada indivíduo para teste\n",
    "Xtest = np.zeros(m) # uma linha de zeros\n",
    "ytest = []\n",
    "img_id_test = []\n",
    "Xtrain = np.copy(X)\n",
    "ytrain = np.copy(y)\n",
    "img_id_train = np.copy(img_id)\n",
    "l = list(range(10))\n",
    "for p in range(39,-1,-1): # para cada indivíduo\n",
    "    random.shuffle(l)\n",
    "    for k in l[0:2]:\n",
    "        Xtest = np.vstack((Xtest,X[p*10 + k,:]))\n",
    "        ytest.append(y[p*10 + k])\n",
    "        img_id_test.append(img_id[p*10 + k])\n",
    "        Xtrain = np.delete(Xtrain, p*10 + k, 0)\n",
    "        ytrain = np.delete(ytrain, p*10 + k)\n",
    "        img_id_train = np.delete(img_id_train, p*10 + k)\n",
    "        \n",
    "Xtest = np.delete(Xtest, 0, 0) # remove a primeira linha de zeros\n",
    "Xtest = np.flip(Xtest, 0)\n",
    "ytest = np.flip(ytest)  \n",
    "img_id_test = np.flip(img_id_test)\n",
    "\n",
    "print('Dimensões de Xtest =', np.shape(Xtest),'Dimensão de ytest =', np.shape(ytest))\n",
    "print('Dimensões de Xtrain =', np.shape(Xtrain),'DImensão de ytrain =', np.shape(ytrain))"
   ]
  },
  {
   "cell_type": "markdown",
   "metadata": {},
   "source": [
    "Devemos agora calcular a matriz de covariância e sua decompoisção espectral."
   ]
  },
  {
   "cell_type": "code",
   "execution_count": 5,
   "metadata": {},
   "outputs": [
    {
     "name": "stdout",
     "output_type": "stream",
     "text": [
      "(320, 320)\n",
      "w = [1.36781452e+04 9.83420787e+03 5.48755061e+03 4.28837788e+03\n",
      " 4.05668814e+03 2.66841298e+03 1.91265404e+03 1.80573523e+03\n",
      " 1.52466523e+03 1.42272472e+03 1.15599227e+03 1.11644648e+03\n",
      " 9.07000577e+02 8.26064828e+02 7.86217593e+02 7.39001784e+02\n",
      " 6.85565245e+02 6.65883192e+02 5.78782661e+02 5.56704348e+02\n",
      " 5.44792701e+02 5.11925914e+02 4.93928985e+02 4.42935345e+02\n",
      " 4.06870258e+02 3.99565248e+02 3.81707901e+02 3.67760932e+02\n",
      " 3.62395250e+02 3.50109415e+02 3.32773131e+02 3.21734821e+02\n",
      " 3.07602462e+02 3.07081829e+02 2.92273711e+02 2.89686227e+02\n",
      " 2.75261576e+02 2.65272830e+02 2.57381493e+02 2.50650571e+02\n",
      " 2.42042299e+02 2.33762362e+02 2.30383070e+02 2.22342263e+02\n",
      " 2.14582710e+02 2.07111439e+02 2.04785711e+02 2.03419163e+02\n",
      " 2.00863870e+02 1.94485067e+02 1.85127915e+02 1.81576956e+02\n",
      " 1.78125501e+02 1.73693789e+02 1.71335679e+02 1.69066767e+02\n",
      " 1.60581295e+02 1.59070356e+02 1.57072990e+02 1.53574803e+02\n",
      " 1.50674516e+02 1.48416210e+02 1.43367943e+02 1.41530394e+02\n",
      " 1.39204012e+02 1.35052838e+02 1.33435887e+02 1.31495353e+02\n",
      " 1.30111595e+02 1.26205862e+02 1.24893323e+02 1.20743348e+02\n",
      " 1.19464924e+02 1.18474564e+02 1.17544127e+02 1.16270693e+02\n",
      " 1.15701378e+02 1.11746319e+02 1.10786729e+02 1.08872364e+02\n",
      " 1.06655006e+02 1.04268726e+02 1.03200505e+02 1.02322810e+02\n",
      " 1.02066579e+02 1.00860952e+02 9.90320854e+01 9.79596342e+01\n",
      " 9.64843804e+01 9.42060463e+01 9.37887846e+01 9.19805717e+01\n",
      " 9.06646482e+01 8.99214853e+01 8.81757271e+01 8.67432426e+01\n",
      " 8.53606535e+01 8.48560079e+01 8.33005351e+01 8.26995972e+01\n",
      " 8.20531301e+01 8.06280282e+01 7.93120269e+01 7.87245201e+01\n",
      " 7.78056162e+01 7.73626686e+01 7.69103468e+01 7.59869629e+01\n",
      " 7.51412336e+01 7.45800264e+01 7.29513731e+01 7.25807476e+01\n",
      " 7.12308288e+01 7.06765137e+01 6.96270103e+01 6.91370313e+01\n",
      " 6.83957983e+01 6.77712390e+01 6.71390379e+01 6.67574186e+01\n",
      " 6.54851979e+01 6.51418078e+01 6.47463616e+01 6.41013306e+01\n",
      " 6.31796801e+01 6.25952764e+01 6.20200037e+01 6.16794787e+01\n",
      " 6.13390079e+01 6.08225026e+01 6.02801144e+01 5.92769226e+01\n",
      " 5.87875461e+01 5.80084842e+01 5.77063542e+01 5.73044092e+01\n",
      " 5.64057540e+01 5.61386370e+01 5.58835937e+01 5.50022189e+01\n",
      " 5.47119295e+01 5.37516870e+01 5.34351803e+01 5.29602868e+01\n",
      " 5.26866300e+01 5.25217933e+01 5.19535472e+01 5.08368334e+01\n",
      " 5.07520624e+01 5.04672261e+01 5.03671130e+01 4.95080231e+01\n",
      " 4.94531970e+01 4.87300014e+01 4.80656551e+01 4.78524544e+01\n",
      " 4.74980755e+01 4.69935787e+01 4.65730527e+01 4.62989612e+01\n",
      " 4.57354763e+01 4.56575498e+01 4.51588443e+01 4.50292305e+01\n",
      " 4.47729028e+01 4.42301502e+01 4.34698051e+01 4.33924261e+01\n",
      " 4.31096575e+01 4.22933098e+01 4.20852761e+01 4.19568835e+01\n",
      " 4.15703331e+01 4.12705838e+01 4.10017468e+01 4.05144628e+01\n",
      " 4.00430980e+01 3.96546554e+01 3.93445539e+01 3.92530952e+01\n",
      " 3.90786326e+01 3.90270253e+01 3.85085621e+01 3.81682586e+01\n",
      " 3.77840974e+01 3.74540563e+01 3.69588715e+01 3.67332400e+01\n",
      " 3.64064761e+01 3.58756626e+01 3.57854726e+01 3.52432087e+01\n",
      " 3.51347950e+01 3.49370279e+01 3.47480496e+01 3.42873159e+01\n",
      " 3.41567716e+01 3.37315883e+01 3.36444556e+01 3.31039363e+01\n",
      " 3.28663585e+01 3.26869722e+01 3.22923965e+01 3.19114627e+01\n",
      " 3.17013380e+01 3.15167673e+01 3.13787932e+01 3.11941501e+01\n",
      " 3.09904283e+01 3.08581526e+01 3.06585414e+01 3.04036467e+01\n",
      " 2.99794672e+01 2.98963603e+01 2.97661928e+01 2.95843475e+01\n",
      " 2.92479364e+01 2.85967336e+01 2.85373147e+01 2.81941140e+01\n",
      " 2.81251662e+01 2.79187565e+01 2.77462451e+01 2.74260829e+01\n",
      " 2.73383599e+01 2.73103877e+01 2.70025104e+01 2.67208786e+01\n",
      " 2.65623123e+01 2.63131516e+01 2.61808883e+01 2.56801358e+01\n",
      " 2.56593232e+01 2.53963691e+01 2.50764802e+01 2.50040408e+01\n",
      " 2.49535420e+01 2.46157013e+01 2.42909403e+01 2.40818324e+01\n",
      " 2.38323841e+01 2.36182560e+01 2.35126035e+01 2.33069527e+01\n",
      " 2.31015080e+01 2.30215896e+01 2.27735748e+01 2.24486913e+01\n",
      " 2.23529847e+01 2.20052464e+01 2.19151511e+01 2.17427683e+01\n",
      " 2.15724191e+01 2.15392740e+01 2.12602259e+01 2.09577503e+01\n",
      " 2.07826997e+01 2.05761561e+01 2.04979032e+01 2.03667589e+01\n",
      " 1.99983503e+01 1.97319253e+01 1.96818723e+01 1.95572882e+01\n",
      " 1.94660033e+01 1.92464721e+01 1.92399067e+01 1.89076451e+01\n",
      " 1.88635415e+01 1.87704770e+01 1.85307973e+01 1.82510243e+01\n",
      " 1.82130737e+01 1.80617259e+01 1.79520300e+01 1.77284661e+01\n",
      " 1.74559448e+01 1.73837337e+01 1.72682939e+01 1.72402799e+01\n",
      " 1.70685082e+01 1.69087944e+01 1.67935689e+01 1.63446790e+01\n",
      " 1.62738837e+01 1.61761797e+01 1.60334400e+01 1.59155434e+01\n",
      " 1.57039688e+01 1.55872167e+01 1.52526691e+01 1.51624309e+01\n",
      " 1.50803670e+01 1.50072032e+01 1.46988349e+01 1.44998148e+01\n",
      " 1.44006876e+01 1.41064032e+01 1.38060410e+01 1.36824503e+01\n",
      " 1.36426259e+01 1.33294372e+01 1.31657395e+01 1.28754893e+01\n",
      " 1.26726012e+01 1.24394675e+01 1.22039866e+01 1.20342812e+01\n",
      " 1.15803539e+01 1.14330009e+01 1.12165884e+01 1.10599080e+01\n",
      " 1.08999449e+01 1.02319146e+01 9.11395086e+00 8.66393531e+00\n",
      " 8.27314147e+00 8.00161788e+00 7.46638654e+00 9.62301088e-14]\n",
      "Tempo de processamento:   0.03 s\n"
     ]
    }
   ],
   "source": [
    "M = np.mean(Xtrain, axis=0) # vetor de médias\n",
    "Z = Xtrain - M # dados centralizados\n",
    "\n",
    "# Devemos calcular a decomposição espectral de A = Zt*Z, mas...\n",
    "#A = np.dot(Z.transpose(), Z)\n",
    "#print(A.shape)\n",
    "#w, Q = eigh(A)\n",
    "#print('w =', np.sort(w)[::-1])\n",
    "\n",
    "# ... mas o tempo de processamento é proibitivo.\n",
    "# Se quisermos ver os 319 primeiros autovalores de A \n",
    "# devemos calculcar a decomposição espectral de A = Z*Zt:\n",
    "A = np.dot(Z, Z.transpose())\n",
    "print(A.shape)\n",
    "start_time = timeit.default_timer()\n",
    "w, Q = eigh(A)\n",
    "elapsed = timeit.default_timer() - start_time\n",
    "print('w =', np.sort(w)[::-1])\n",
    "print('Tempo de processamento: {:6.2f} s'.format(elapsed))"
   ]
  },
  {
   "cell_type": "markdown",
   "metadata": {},
   "source": [
    "<b>Conseguimos os autovalores, mas e os autovetores? O que fazer???</b>\n",
    "\n",
    "Vamos trabalhar com a <b>Decomposição de Valor Singular (SVD)</b>."
   ]
  },
  {
   "cell_type": "markdown",
   "metadata": {},
   "source": [
    "## Decomposição de Valor Singular - SVD"
   ]
  },
  {
   "cell_type": "markdown",
   "metadata": {},
   "source": [
    "Calculemos a SVD da matriz $Xtrain$."
   ]
  },
  {
   "cell_type": "markdown",
   "metadata": {},
   "source": [
    "Primeiramente a SVD completa:"
   ]
  },
  {
   "cell_type": "code",
   "execution_count": 6,
   "metadata": {},
   "outputs": [
    {
     "name": "stdout",
     "output_type": "stream",
     "text": [
      "U shape = (320, 320) s length = 320 Vt shape = (10304, 10304)\n",
      "Tempo de processamento:  17.41 s\n"
     ]
    }
   ],
   "source": [
    "start_time = timeit.default_timer()\n",
    "U, s, Vt = np.linalg.svd(Xtrain, full_matrices=True)\n",
    "elapsed = timeit.default_timer() - start_time\n",
    "\n",
    "print('U shape =', np.shape(U), 's length =', len(s), 'Vt shape =', np.shape(Vt))\n",
    "print('Tempo de processamento: {:6.2f} s'.format(elapsed))"
   ]
  },
  {
   "cell_type": "markdown",
   "metadata": {},
   "source": [
    "Apesar de conseguirmos calcular a SVD completa em 10-20 segundos,<br>\n",
    "não precisamos de todos os vetores singulares esquerdos de $X$,<br>\n",
    "então utilizaremos sempre a <b>SVD reduzida</b>."
   ]
  },
  {
   "cell_type": "code",
   "execution_count": 7,
   "metadata": {},
   "outputs": [
    {
     "name": "stdout",
     "output_type": "stream",
     "text": [
      "U shape = (320, 320) s length = 320 Vt shape = (320, 10304)\n",
      "Tempo de processamento:   0.61 s\n"
     ]
    }
   ],
   "source": [
    "start_time = timeit.default_timer()\n",
    "U, s, Vt = np.linalg.svd(Xtrain, full_matrices=False)\n",
    "elapsed = timeit.default_timer() - start_time\n",
    "\n",
    "print('U shape =', np.shape(U), 's length =', len(s), 'Vt shape =', np.shape(Vt))\n",
    "print('Tempo de processamento: {:6.2f} s'.format(elapsed))"
   ]
  },
  {
   "cell_type": "markdown",
   "metadata": {},
   "source": [
    "Bem melhor!"
   ]
  },
  {
   "cell_type": "markdown",
   "metadata": {},
   "source": [
    "## Redução de Dimensionalidade"
   ]
  },
  {
   "cell_type": "markdown",
   "metadata": {},
   "source": [
    "Agora, faremos a redução de dimensionalidade dos dados e<br>\n",
    "procederemos com a classificação para o reconhecimento facial."
   ]
  },
  {
   "cell_type": "code",
   "execution_count": 7,
   "metadata": {},
   "outputs": [],
   "source": [
    "def reduced_coordinates(r):\n",
    "    # Calcula as componentes principais:\n",
    "    return U[:,0:r] * s[0:r], np.dot(Xtest, Vt[0:r,:].transpose())"
   ]
  },
  {
   "cell_type": "code",
   "execution_count": 9,
   "metadata": {},
   "outputs": [
    {
     "name": "stdout",
     "output_type": "stream",
     "text": [
      "Variabilidade acumulada até o 22-ésimo valor singular: 97.1 %.\n",
      "Acurácia = 98.75 %.\n",
      "Tempo de execução:   0.27 s.\n"
     ]
    }
   ],
   "source": [
    "r = 22\n",
    "ntrains = np.shape(Xtrain)[0]\n",
    "ntests = np.shape(Xtest)[0]\n",
    "\n",
    "Ytrain, Ytest = reduced_coordinates(r)\n",
    "count = 0\n",
    "start_time = timeit.default_timer()\n",
    "for i in range(ntests):\n",
    "    dist = []\n",
    "    for j in range(ntrains):\n",
    "        dist = np.append(dist, np.linalg.norm(Ytest[i,:] - Ytrain[j,:]))\n",
    "    index = np.argmin(dist)\n",
    "    if ytrain[index] == ytest[i]:\n",
    "        count += 1\n",
    "elapsed = timeit.default_timer() - start_time\n",
    "acc = count / ntests\n",
    "\n",
    "print('Variabilidade acumulada até o {}-ésimo valor singular: {:4.1f} %.'\\\n",
    "      .format(r,(np.sum(s[0:r]**2) / np.sum(s**2))*100))\n",
    "print('Acurácia = {:5.2f} %.'.format(acc*100))\n",
    "print('Tempo de execução: {:6.2f} s.'.format(elapsed))"
   ]
  },
  {
   "cell_type": "markdown",
   "metadata": {},
   "source": [
    "Vamos fazer um gráfico de variabilidade acumulada versus número de valores singulares<br>\n",
    "e outro de acurácia versus número de valores singulares."
   ]
  },
  {
   "cell_type": "code",
   "execution_count": 10,
   "metadata": {},
   "outputs": [
    {
     "data": {
      "text/plain": [
       "Text(0,0.5,'Variabilidade Acumulada')"
      ]
     },
     "execution_count": 10,
     "metadata": {},
     "output_type": "execute_result"
    },
    {
     "data": {
      "image/png": "[encoded data removed]",
      "text/plain": [
       "<Figure size 432x288 with 1 Axes>"
      ]
     },
     "metadata": {},
     "output_type": "display_data"
    }
   ],
   "source": [
    "total_var = np.sum(s**2)\n",
    "y_plot = np.cumsum(s**2) / total_var\n",
    "x_plot = np.array(range(len(s)))\n",
    "\n",
    "plt.plot(x_plot, y_plot)\n",
    "plt.xlabel('Número de Valores Singulares')\n",
    "plt.ylabel('Variabilidade Acumulada')"
   ]
  },
  {
   "cell_type": "code",
   "execution_count": 11,
   "metadata": {},
   "outputs": [
    {
     "data": {
      "text/plain": [
       "Text(0,0.5,'Acurácia')"
      ]
     },
     "execution_count": 11,
     "metadata": {},
     "output_type": "execute_result"
    },
    {
     "data": {
      "image/png": "[encoded data removed]",
      "text/plain": [
       "<Figure size 432x288 with 1 Axes>"
      ]
     },
     "metadata": {},
     "output_type": "display_data"
    }
   ],
   "source": [
    "ntrains = np.shape(Xtrain)[0]\n",
    "ntests = np.shape(Xtest)[0]\n",
    "\n",
    "acc = []\n",
    "for r in range(1,320):\n",
    "    Ytrain, Ytest = reduced_coordinates(r)\n",
    "    count = 0\n",
    "    for i in range(ntests):\n",
    "        dist = []\n",
    "        for j in range(ntrains):\n",
    "            dist = np.append(dist, np.linalg.norm(Ytest[i,:] - Ytrain[j,:]))\n",
    "        index = np.argmin(dist)\n",
    "        if ytrain[index] == ytest[i]:\n",
    "            count += 1\n",
    "    acc.append(count / ntests)\n",
    "    \n",
    "x_plot = list(range(1,320))\n",
    "plt.plot(x_plot, acc)\n",
    "plt.xlabel('Número de Valores Singulares')\n",
    "plt.ylabel('Acurácia')"
   ]
  },
  {
   "cell_type": "markdown",
   "metadata": {},
   "source": [
    "Vejamos uma parte do gráfico com mais detalhes."
   ]
  },
  {
   "cell_type": "code",
   "execution_count": null,
   "metadata": {},
   "outputs": [],
   "source": [
    "ntrains = np.shape(Xtrain)[0]\n",
    "ntests = np.shape(Xtest)[0]\n",
    "\n",
    "# Aqui devemos mudar os valores no range(a,b)\n",
    "# dependendo do gráfico acima.\n",
    "acc = []\n",
    "for r in range(20,60):\n",
    "    Ytrain, Ytest = reduced_coordinates(r)\n",
    "    count = 0\n",
    "    for i in range(ntests):\n",
    "        dist = []\n",
    "        for j in range(ntrains):\n",
    "            dist = np.append(dist, np.linalg.norm(Ytest[i,:] - Ytrain[j,:]))\n",
    "        index = np.argmin(dist)\n",
    "        if ytrain[index] == ytest[i]:\n",
    "            count += 1\n",
    "    acc.append(count / ntests)\n",
    "test_acc = np.mean(acc)\n",
    "    \n",
    "x_plot = list(range(20,60))\n",
    "plt.plot(x_plot, acc)\n",
    "plt.xlabel('Número de Valores Singulares')\n",
    "plt.ylabel('Acurácia')"
   ]
  },
  {
   "cell_type": "markdown",
   "metadata": {},
   "source": [
    "Vemos que, utilizando de $x_1$ a $x_2$ valores singulares, obtemos a acurácia máxima.<br>\n",
    "Utilizar <b>mais</b> valores singulares, <b>diminui</b> a acurácia."
   ]
  },
  {
   "cell_type": "markdown",
   "metadata": {},
   "source": [
    "Por fim, vamos realizar uma validação cruzada com os dados.<br>\n",
    "Usaremos o esquema <i>leave-one-out</i> por classe."
   ]
  },
  {
   "cell_type": "code",
   "execution_count": 32,
   "metadata": {},
   "outputs": [
    {
     "name": "stdout",
     "output_type": "stream",
     "text": [
      "--> 10 --> 20 --> 30 --> 40 --> 50 --> 60 --> 70 --> 80 --> 90 --> 100 --> 110 --> 120 --> 130 --> 140 --> 150 --> 160 --> 170 --> 180 --> 190 --> 200 --> 210 --> 220 --> 230 --> 240 --> 250 --> 260 --> 270 --> 280 --> 290 --> 300 --> 310 --> 320 --> 330 --> 340 --> 350 \n",
      "Tempo de execução =  343.53452211699914 s.\n"
     ]
    },
    {
     "data": {
      "text/plain": [
       "Text(0,0.5,'Acurácia')"
      ]
     },
     "execution_count": 32,
     "metadata": {},
     "output_type": "execute_result"
    },
    {
     "data": {
      "image/png": "[encoded data removed]",
      "text/plain": [
       "<Figure size 432x288 with 1 Axes>"
      ]
     },
     "metadata": {},
     "output_type": "display_data"
    }
   ],
   "source": [
    "#r = 40\n",
    "m = 112 * 92\n",
    "ntrains = 360\n",
    "ntests = 40\n",
    "test_acc = []\n",
    "start_time = timeit.default_timer()\n",
    "for r in range(10,360,10):\n",
    "    acc = []\n",
    "    for k in range(10):\n",
    "        Xtest = np.copy(X[k:400:10,:])\n",
    "        ytest = np.copy(y[k:400:10])\n",
    "        Xtrain = np.copy(X)\n",
    "        ytrain = np.copy(y)\n",
    "        for j in range(39,-1,-1):\n",
    "            Xtrain = np.delete(Xtrain, j*10 + k, 0)\n",
    "            ytrain = np.delete(ytrain, j*10 + k)\n",
    "        U, s, Vt = np.linalg.svd(Xtrain, full_matrices=False)\n",
    "        Ytrain, Ytest = reduced_coordinates(r)\n",
    "        count = 0\n",
    "        for i in range(ntests):\n",
    "            dist = []\n",
    "            for j in range(ntrains):\n",
    "                dist = np.append(dist, np.linalg.norm(Ytest[i,:] - Ytrain[j,:]))\n",
    "            index = np.argmin(dist)\n",
    "            if ytrain[index] == ytest[i]:\n",
    "                count += 1\n",
    "        acc = np.append(acc, count / ntests)\n",
    "        #print('--> k = {}: acurácia = {:5.2f}%'.format(k, acc[k]*100))\n",
    "    test_acc = np.append(test_acc, np.mean(acc))\n",
    "    print('-->', r, end=' ') \n",
    "elapsed = timeit.default_timer() - start_time\n",
    "print('\\nTempo de execução = ', elapsed, 's.')\n",
    "#print('Acurácia Final = {:5.2f} %.'.format(test_acc*100))\n",
    "x_plot = list(range(10,360,10))\n",
    "plt.plot(x_plot, test_acc)\n",
    "plt.xlabel('Número de Valores Singulares')\n",
    "plt.ylabel('Acurácia')"
   ]
  }
 ],
 "metadata": {
  "kernelspec": {
   "display_name": "Python 3",
   "language": "python",
   "name": "python3"
  },
  "language_info": {
   "codemirror_mode": {
    "name": "ipython",
    "version": 3
   },
   "file_extension": ".py",
   "mimetype": "text/x-python",
   "name": "python",
   "nbconvert_exporter": "python",
   "pygments_lexer": "ipython3",
   "version": "3.6.6"
  }
 },
 "nbformat": 4,
 "nbformat_minor": 2
}
